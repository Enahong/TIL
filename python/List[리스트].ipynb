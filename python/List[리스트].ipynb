{
 "cells": [
  {
   "cell_type": "markdown",
   "id": "d1f0f18b",
   "metadata": {},
   "source": [
    "# 리스트\n",
    "* 튜플은 값 변경이 x \n",
    "* 리스트 값 변경이 o\n",
    "- append(), extend(), insert(), pop(), remove(), clear(), reverse(), sort()"
   ]
  },
  {
   "cell_type": "code",
   "execution_count": 15,
   "id": "c52f33fa",
   "metadata": {},
   "outputs": [
    {
     "data": {
      "text/plain": [
       "[1, 1.234, 'a', 'abc', (123, 1), [1, 2.3]]"
      ]
     },
     "execution_count": 15,
     "metadata": {},
     "output_type": "execute_result"
    }
   ],
   "source": [
    "A= [1,1.234,'a','abc',(123,1),[1,2.3]]\n",
    "A"
   ]
  },
  {
   "cell_type": "code",
   "execution_count": 16,
   "id": "75013b45",
   "metadata": {},
   "outputs": [
    {
     "data": {
      "text/plain": [
       "list"
      ]
     },
     "execution_count": 16,
     "metadata": {},
     "output_type": "execute_result"
    }
   ],
   "source": [
    "type(A)"
   ]
  },
  {
   "cell_type": "code",
   "execution_count": 17,
   "id": "4ff56662",
   "metadata": {},
   "outputs": [],
   "source": [
    "ls = [1,2,3,4]"
   ]
  },
  {
   "cell_type": "code",
   "execution_count": 18,
   "id": "316aed77",
   "metadata": {},
   "outputs": [
    {
     "name": "stdout",
     "output_type": "stream",
     "text": [
      "1 2 3 4\n"
     ]
    }
   ],
   "source": [
    "a,b,c,d=ls  #unpacking은 가능하다..\n",
    "print(a,b,c,d)"
   ]
  },
  {
   "cell_type": "code",
   "execution_count": 19,
   "id": "6708262b",
   "metadata": {},
   "outputs": [
    {
     "name": "stdout",
     "output_type": "stream",
     "text": [
      "[5, 2, 3, 4]\n"
     ]
    }
   ],
   "source": [
    "# 튜플은 값 변경이 x , 리스트 값 변경이 o\n",
    "ls[0] = 5 \n",
    "print(ls)"
   ]
  },
  {
   "cell_type": "code",
   "execution_count": 20,
   "id": "8fad3e62",
   "metadata": {},
   "outputs": [
    {
     "name": "stdout",
     "output_type": "stream",
     "text": [
      "[5, 6, 7, 4]\n"
     ]
    }
   ],
   "source": [
    "ls[1:3] = 6,7\n",
    "print(ls)"
   ]
  },
  {
   "cell_type": "code",
   "execution_count": 21,
   "id": "923b305a",
   "metadata": {},
   "outputs": [
    {
     "name": "stdout",
     "output_type": "stream",
     "text": [
      "5\n",
      "6\n",
      "7\n",
      "4\n"
     ]
    }
   ],
   "source": [
    "for i in ls:\n",
    "    print(i)"
   ]
  },
  {
   "cell_type": "code",
   "execution_count": 22,
   "id": "769139fb",
   "metadata": {},
   "outputs": [
    {
     "name": "stdout",
     "output_type": "stream",
     "text": [
      "5\n",
      "6\n",
      "7\n",
      "4\n"
     ]
    }
   ],
   "source": [
    "for i in range(len(ls)):#0~3\n",
    "    print(ls[i])"
   ]
  },
  {
   "cell_type": "code",
   "execution_count": 38,
   "id": "dc75fb80",
   "metadata": {},
   "outputs": [
    {
     "data": {
      "text/plain": [
       "[1, 2, 3, 4]"
      ]
     },
     "execution_count": 38,
     "metadata": {},
     "output_type": "execute_result"
    }
   ],
   "source": [
    "ls = [1,2,3,4]\n",
    "ls"
   ]
  },
  {
   "cell_type": "markdown",
   "id": "8d79ae31",
   "metadata": {},
   "source": [
    "## .append()"
   ]
  },
  {
   "cell_type": "code",
   "execution_count": 39,
   "id": "d3579a43",
   "metadata": {},
   "outputs": [
    {
     "name": "stdout",
     "output_type": "stream",
     "text": [
      "[1, 2, 3, 4, 5]\n"
     ]
    }
   ],
   "source": [
    "#맨 뒤에 숫자가 차곡 차곡 추가된다.\n",
    "\n",
    "ls.append(5) \n",
    "print(ls)"
   ]
  },
  {
   "cell_type": "code",
   "execution_count": 40,
   "id": "e49f07fd",
   "metadata": {},
   "outputs": [
    {
     "data": {
      "text/plain": [
       "[1, 2, 3, 4, 5, 6]"
      ]
     },
     "execution_count": 40,
     "metadata": {},
     "output_type": "execute_result"
    }
   ],
   "source": [
    "ls.append(6) \n",
    "ls"
   ]
  },
  {
   "cell_type": "code",
   "execution_count": 41,
   "id": "737ce9a6",
   "metadata": {},
   "outputs": [
    {
     "data": {
      "text/plain": [
       "[1, 2, 3, 4, 5, 6, [6, 7]]"
      ]
     },
     "execution_count": 41,
     "metadata": {},
     "output_type": "execute_result"
    }
   ],
   "source": [
    "ls.append([6,7]) \n",
    "ls"
   ]
  },
  {
   "cell_type": "code",
   "execution_count": 42,
   "id": "3053c532",
   "metadata": {},
   "outputs": [
    {
     "data": {
      "text/plain": [
       "[1, 2, 3, 4, 5, 6, [6, 7], (6, 7)]"
      ]
     },
     "execution_count": 42,
     "metadata": {},
     "output_type": "execute_result"
    }
   ],
   "source": [
    "# append는 괄호를 튜플로 인식해서 튜플형태로 list에 추가된다.\n",
    "ls.append((6,7)) \n",
    "ls"
   ]
  },
  {
   "cell_type": "markdown",
   "id": "2e2586eb",
   "metadata": {},
   "source": [
    "## .extend()"
   ]
  },
  {
   "cell_type": "code",
   "execution_count": 43,
   "id": "0d342599",
   "metadata": {},
   "outputs": [
    {
     "name": "stdout",
     "output_type": "stream",
     "text": [
      "[1, 2, 3, 4, 5, 6, [6, 7], (6, 7), 6, 7]\n"
     ]
    }
   ],
   "source": [
    "ls.extend((6,7)) # 연속된 여러개의 숫자를 앞에서부터 추가시킨다.\n",
    "print(ls)"
   ]
  },
  {
   "cell_type": "markdown",
   "id": "60faf117",
   "metadata": {},
   "source": [
    "## .insert()"
   ]
  },
  {
   "cell_type": "code",
   "execution_count": 48,
   "id": "f2b27c9e",
   "metadata": {},
   "outputs": [
    {
     "name": "stdout",
     "output_type": "stream",
     "text": [
      "[0, 1, 2, 3, 4, 5, 6, [6, 7], (6, 7), 6, 7]\n"
     ]
    }
   ],
   "source": [
    "ls.insert(0,0) #.insert(인덱스,값) - 그 인덱스에 추가적으로 값이 들어간다.\n",
    "print(ls)"
   ]
  },
  {
   "cell_type": "code",
   "execution_count": 49,
   "id": "6af234e2",
   "metadata": {},
   "outputs": [
    {
     "name": "stdout",
     "output_type": "stream",
     "text": [
      "[0, 1, 2, 3, 4, 5, 6, [6, 7], (6, 7), 6, 8, 7]\n"
     ]
    }
   ],
   "source": [
    "ls.insert(10,8) #앞의 인덱스 없을경우 맨 뒤에 추가적으로 값을 넣어준다.\n",
    "print(ls)"
   ]
  },
  {
   "cell_type": "markdown",
   "id": "1260d7ab",
   "metadata": {},
   "source": [
    "## .pop"
   ]
  },
  {
   "cell_type": "code",
   "execution_count": 50,
   "id": "d2d95f9f",
   "metadata": {},
   "outputs": [
    {
     "name": "stdout",
     "output_type": "stream",
     "text": [
      "(6, 7)\n",
      "[0, 1, 2, 3, 4, 5, 6, [6, 7], 6, 8, 7]\n"
     ]
    }
   ],
   "source": [
    "print(ls.pop(8)) #숫자 하나 자르기\n",
    "print(ls)"
   ]
  },
  {
   "cell_type": "markdown",
   "id": "78400405",
   "metadata": {},
   "source": [
    "## .remove()"
   ]
  },
  {
   "cell_type": "code",
   "execution_count": 51,
   "id": "e83b9e3f",
   "metadata": {},
   "outputs": [
    {
     "name": "stdout",
     "output_type": "stream",
     "text": [
      "[0, 1, 2, 3, 4, 6, [6, 7], 6, 8, 7]\n"
     ]
    }
   ],
   "source": [
    "ls.remove(5)#값으로 지우기\n",
    "print(ls)\n"
   ]
  },
  {
   "cell_type": "markdown",
   "id": "d7e783d7",
   "metadata": {},
   "source": [
    "## clear()"
   ]
  },
  {
   "cell_type": "code",
   "execution_count": 52,
   "id": "c9974b54",
   "metadata": {},
   "outputs": [
    {
     "name": "stdout",
     "output_type": "stream",
     "text": [
      "[]\n"
     ]
    }
   ],
   "source": [
    "ls.clear() #리스트 전체 초기화\n",
    "print(ls)"
   ]
  },
  {
   "cell_type": "code",
   "execution_count": 53,
   "id": "21569f17",
   "metadata": {},
   "outputs": [
    {
     "name": "stdout",
     "output_type": "stream",
     "text": [
      "[9, 1, 5, 3, 7, 8, 2, 4, 6]\n"
     ]
    }
   ],
   "source": [
    "ls = [9,1,5,3,7,8,2,4,6]\n",
    "\n",
    "print(ls)"
   ]
  },
  {
   "cell_type": "markdown",
   "id": "3f1d5a64",
   "metadata": {},
   "source": [
    "## .reverse()"
   ]
  },
  {
   "cell_type": "code",
   "execution_count": 54,
   "id": "5cf155c6",
   "metadata": {},
   "outputs": [
    {
     "name": "stdout",
     "output_type": "stream",
     "text": [
      "[6, 4, 2, 8, 7, 3, 5, 1, 9]\n"
     ]
    }
   ],
   "source": [
    "ls.reverse() #거꾸로\n",
    "print(ls)"
   ]
  },
  {
   "cell_type": "markdown",
   "id": "42727390",
   "metadata": {},
   "source": [
    "## .sort()"
   ]
  },
  {
   "cell_type": "code",
   "execution_count": 55,
   "id": "9a9a8d01",
   "metadata": {},
   "outputs": [
    {
     "name": "stdout",
     "output_type": "stream",
     "text": [
      "[9, 8, 7, 6, 5, 4, 3, 2, 1]\n",
      "[1, 2, 3, 4, 5, 6, 7, 8, 9]\n"
     ]
    }
   ],
   "source": [
    "ls.sort(reverse=True) #내림차순\n",
    "print(ls)\n",
    "\n",
    "ls.sort() #오름차순 : sort()의 기본값 오름차순\n",
    "print(ls)"
   ]
  },
  {
   "cell_type": "markdown",
   "id": "e0e5b7b1",
   "metadata": {},
   "source": [
    "# 퀴즈"
   ]
  },
  {
   "cell_type": "code",
   "execution_count": 69,
   "id": "3a9b2c3f",
   "metadata": {},
   "outputs": [],
   "source": [
    "menu = [['칼국수', 6000], ['비빔밥', 5500], ['돼지국밥', 7000], \n",
    "['돈까스', 7000], ['김밥', 2000], ['라면', 2500]]"
   ]
  },
  {
   "cell_type": "code",
   "execution_count": 70,
   "id": "523e98f4",
   "metadata": {},
   "outputs": [
    {
     "name": "stdout",
     "output_type": "stream",
     "text": [
      "비빔밥:5500원\n",
      "돈까스:7000원\n",
      "비빔밥 : 5500원\n",
      "돈까스 : 7000원\n"
     ]
    }
   ],
   "source": [
    "# 위의 리스트 구조를 보고 아래에서 요구하는 결과가 반영 되도록 코드를 작성 하시오.\n",
    "\n",
    "# 비빔밥과, 돈까스의 가격을 출력 하시오.\n",
    "\n",
    "for i in menu:\n",
    "    if i[0] == '비빔밥':\n",
    "        print(f'{i[0]}:{i[1]}원')\n",
    "    elif i[0] == '돈까스':\n",
    "         print(f'{i[0]}:{i[1]}원')\n",
    "            \n",
    "# or \n",
    "print(\"{} : {}원\".format(menu[1][0],menu[1][1]))\n",
    "print(\"{} : {}원\".format(menu[3][0],menu[3][1]))"
   ]
  },
  {
   "cell_type": "code",
   "execution_count": 71,
   "id": "f5397a4a",
   "metadata": {},
   "outputs": [
    {
     "name": "stdout",
     "output_type": "stream",
     "text": [
      "메뉴:스파게티\n",
      "가격12000\n"
     ]
    },
    {
     "data": {
      "text/plain": [
       "[['칼국수', 6000],\n",
       " ['비빔밥', 5500],\n",
       " ['돼지국밥', 7000],\n",
       " ['돈까스', 7000],\n",
       " ['김밥', 2000],\n",
       " ['라면', 2500],\n",
       " ['스파게티', 12000]]"
      ]
     },
     "execution_count": 71,
     "metadata": {},
     "output_type": "execute_result"
    }
   ],
   "source": [
    "# 사용자 입력으로 메뉴와 가격을 입력 받아 menu 변수에 자료를 추가하는 \n",
    "# 코드를 작성 하시오.\n",
    "m = input('메뉴:')\n",
    "p = int(input('가격'))\n",
    "menu.append([m,p])\n",
    "menu"
   ]
  },
  {
   "cell_type": "code",
   "execution_count": 76,
   "id": "ed59c250",
   "metadata": {},
   "outputs": [
    {
     "name": "stdout",
     "output_type": "stream",
     "text": [
      "메뉴:김밥\n",
      "가격3500\n",
      "[['칼국수', 6000], ['비빔밥', 5500], ['돼지국밥', 7000], ['돈까스', 7000], ['김밥', 3500], ['라면', 2500], ['스파게티', 12000]]\n"
     ]
    }
   ],
   "source": [
    "# 사용자 입력으로 메뉴와 가격을 입력 받아 menu 변수에 자료를 추가 할 때 \n",
    "# 기존에 동일한 메뉴가 존재하는 경우 가격만 변경 되도록 코드를 작성 하시오.\n",
    "m = input('메뉴:')\n",
    "p = int(input('가격'))\n",
    "\n",
    "check = True\n",
    "for i in menu:\n",
    "\n",
    "    if i[0] == m:#동일한 메뉴가 있을때 가격 변경해주기\n",
    "        i[1] = p\n",
    "        check = False\n",
    "        break\n",
    "\n",
    "if check:\n",
    "    #동일한 메뉴가 없을때 그냥 추가시켜주기\n",
    "    menu.append([m,p])\n",
    "print(menu)"
   ]
  },
  {
   "cell_type": "code",
   "execution_count": 74,
   "id": "1e91a0e6",
   "metadata": {},
   "outputs": [
    {
     "name": "stdout",
     "output_type": "stream",
     "text": [
      "돼지국밥 : 7000원\n"
     ]
    }
   ],
   "source": [
    "# 메뉴를 자동으로 선택하여 출력하는 코드를 작성 하시오.\n",
    "import random\n",
    "rand = int(random.random() * len(menu))\n",
    "\n",
    "print(\"{} : {}원\".format(menu[rand][0],menu[rand][1]))"
   ]
  },
  {
   "cell_type": "code",
   "execution_count": 77,
   "id": "7ed8b6fc",
   "metadata": {},
   "outputs": [],
   "source": [
    "ls = [[0,0,0,0,0],\n",
    "    [0,0,0,0,0],\n",
    "    [0,0,0,0,0],\n",
    "    [0,0,0,0,0],\n",
    "    [0,0,0,0,0]]"
   ]
  },
  {
   "cell_type": "code",
   "execution_count": null,
   "id": "5ddd34a2",
   "metadata": {},
   "outputs": [],
   "source": [
    "i = 1\n",
    "while i<=25:\n",
    "    a = int(random.random() * 5)#0 0 0 0\n",
    "    b = int(random.random() * 5)#0 1 0 2\n",
    "\n",
    "    #a인덱스 b인덱스 뽑힌 안의 공간의 값이 0일때\n",
    "    #그 인덱스에 i의 값을 넣어주고 i를 하나씩 증가\n",
    "    if ls[a][b] == 0 :\n",
    "        ls[a][b] = i #0 0 : 1 # 0 1 : 2 # 0 2 : 3\n",
    "        i+=1\n",
    "for i in range(5):\n",
    "    for j in range(5):\n",
    "        print(ls[i][j],end=\"\\t\")\n",
    "    print()"
   ]
  },
  {
   "cell_type": "code",
   "execution_count": null,
   "id": "069af46c",
   "metadata": {},
   "outputs": [],
   "source": []
  }
 ],
 "metadata": {
  "kernelspec": {
   "display_name": "Python 3",
   "language": "python",
   "name": "python3"
  },
  "language_info": {
   "codemirror_mode": {
    "name": "ipython",
    "version": 3
   },
   "file_extension": ".py",
   "mimetype": "text/x-python",
   "name": "python",
   "nbconvert_exporter": "python",
   "pygments_lexer": "ipython3",
   "version": "3.8.8"
  },
  "toc": {
   "base_numbering": 1,
   "nav_menu": {},
   "number_sections": true,
   "sideBar": true,
   "skip_h1_title": false,
   "title_cell": "Table of Contents",
   "title_sidebar": "Contents",
   "toc_cell": false,
   "toc_position": {},
   "toc_section_display": true,
   "toc_window_display": true
  }
 },
 "nbformat": 4,
 "nbformat_minor": 5
}
