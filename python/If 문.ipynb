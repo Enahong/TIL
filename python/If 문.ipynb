{
 "cells": [
  {
   "cell_type": "markdown",
   "id": "a687d056",
   "metadata": {},
   "source": [
    "# if 문\n",
    "- 조건문 -  if~ elif ~ else\n",
    "- 조건식의 결과(True or False) 에 따라서 실행내용을 선택하여 실행하는 문장.\n",
    "- 조건문 : 조건식이 참이면 종속문장 실행\n",
    "\n",
    "형식\n",
    "```\n",
    "if 조건식:\n",
    "       종속문장\n",
    "   elif 조건식:\n",
    "      종속문장\n",
    "   else:\n",
    "       종속문장\n",
    "```"
   ]
  },
  {
   "cell_type": "code",
   "execution_count": 2,
   "id": "22db8c58",
   "metadata": {},
   "outputs": [
    {
     "name": "stdout",
     "output_type": "stream",
     "text": [
      "나이를 입력하세요 :30\n",
      "성인\n"
     ]
    }
   ],
   "source": [
    "#조건문 : 조건식이 참이면 종속문장 실행\n",
    "# 형식\n",
    "# if 조건식: \n",
    "#   종속문장;\n",
    "\n",
    "age = int(input('나이를 입력하세요 :'))\n",
    "#(age>=20) and '성인' or '미성년자'\n",
    "\n",
    "if age>=20:\n",
    "    print('성인')\n",
    "else:\n",
    "    print('미성년자')"
   ]
  },
  {
   "cell_type": "code",
   "execution_count": 3,
   "id": "762f6639",
   "metadata": {},
   "outputs": [
    {
     "name": "stdout",
     "output_type": "stream",
     "text": [
      "정수입력 :30\n",
      "짝수\n"
     ]
    }
   ],
   "source": [
    "#짝수,홀수\n",
    "a = int(input('정수입력 :'))\n",
    "if su % 2 == 0:\n",
    "    print('짝수')\n",
    "else:# 위에 조건문이 참이 아닐시 실행 ( 위 조건문이 거짓일때 실행 )\n",
    "    print('홀수')"
   ]
  },
  {
   "cell_type": "code",
   "execution_count": 6,
   "id": "c77e875b",
   "metadata": {},
   "outputs": [
    {
     "name": "stdout",
     "output_type": "stream",
     "text": [
      "국어점수 입력 :30\n",
      "영어 점수 입력 :100\n",
      "수학 점수 입력 :100\n",
      "불합격\n",
      "국어 미달\n"
     ]
    }
   ],
   "source": [
    "# - 점수를 3개 입력받아 평균이 60점 이상이고\n",
    "#   각 점수가 40점 이상이면 합격, 아니면 불합격\n",
    "kor = int(input('국어점수 입력 :'))\n",
    "eng = int(input('영어 점수 입력 :'))\n",
    "math = int(input('수학 점수 입력 :'))\n",
    "\n",
    "tot = kor+eng+math\n",
    "avg = tot/3\n",
    "\n",
    "if avg>=60 and kor>=40 and eng >= 40 and math >= 40:\n",
    "    print('합격')\n",
    "else:\n",
    "    print('불합격')\n",
    "    if avg<60:\n",
    "        print('평균',end=\" \")\n",
    "    elif kor <40:\n",
    "        print('국어',end=\" \")\n",
    "    elif eng < 40:\n",
    "        print('영어',end=\" \")\n",
    "    elif math<40 :\n",
    "        print('수학',end=\" \")\n",
    "    print('미달')\n"
   ]
  },
  {
   "cell_type": "code",
   "execution_count": 7,
   "id": "2810fb06",
   "metadata": {},
   "outputs": [
    {
     "name": "stdout",
     "output_type": "stream",
     "text": [
      "10자리의 아이디르 입력하시오enahongena\n",
      "비밀번호 입력:12345678\n",
      "아이디:enahongena\n",
      "비밀번호:12345678\n"
     ]
    }
   ],
   "source": [
    "# 다음 조건을 보고 회원가입을 위한 \n",
    "# 프로그램 코드를 작성 하시오.\n",
    "# 아이디는 반드시 10자리 이상\n",
    "# 패스워드는 반드시 8 ~ 16자리 사이\n",
    "# 패스워드에 아이디가 포함되면 안됨\n",
    "\n",
    "user = input('10자리의 아이디르 입력하시오')\n",
    "\n",
    "\n",
    "if len(user) >= 10:\n",
    "    pw = input('비밀번호 입력:')\n",
    "    if len(pw)>=8 and len(pw)<=16:\n",
    "        print(f'아이디:{user}')\n",
    "        print(f'비밀번호:{pw}')\n",
    "    elif len(pw) < 8 or len(pw) >16:\n",
    "        print('비밀번호는 8자에서 16자리 사이여야 합니다!')\n",
    "    elif pw.find(user)>=0:\n",
    "        print('비밀번호에 아이디를 포함시킬 수 없습니다')\n",
    "else:\n",
    "    print('잘못된 아이디 입력입니다!')\n"
   ]
  },
  {
   "cell_type": "code",
   "execution_count": 8,
   "id": "60bc9f0c",
   "metadata": {},
   "outputs": [
    {
     "name": "stdout",
     "output_type": "stream",
     "text": [
      "정수입력 :30\n",
      "30는 짝수이면서 3의 배수입니다.\n",
      "짝수,3의배수\n"
     ]
    }
   ],
   "source": [
    "# - 수를 입력 받아 짝수이면서 3의배수이면 출력\n",
    "#elif쓰시는거 권장\n",
    "\n",
    "\n",
    "#짝수이면서 3의배수입니다\n",
    "#홀수이면서 3의배수입니다\n",
    "#짝수이면서 3의배수가 아닙니다\n",
    "#홀수이면서 3의배수가 아닙니다\n",
    "su = int(input('정수입력 :'))\n",
    "if su % 2 == 0 and su % 3 == 0:\n",
    "    print(\"{}는 짝수이면서 3의 배수입니다.\".format(su))\n",
    "elif su % 2 !=0 and su % 3 == 0:\n",
    "    print(\"{}는 홀수이면서 3의 배수입니다.\".format(su))\n",
    "elif su % 2 == 0 and su % 3  != 0:\n",
    "    print('{}는 짝수이면서 3의 배수가 아닙니다.'.format(su))\n",
    "else:\n",
    "    print('{}는 홀수이면서 3의 배수가 아닙니다.'.format(su))\n",
    "\n",
    "if su % 2 == 0:\n",
    "    if su % 3 == 0:\n",
    "        print('짝수,3의배수')\n",
    "    else:\n",
    "        print('짝수,3의배수x')\n",
    "else:\n",
    "    if su % 3 == 0:\n",
    "        print('홀수,3의배수')\n",
    "    else:\n",
    "        print('홀수,3의배수x')"
   ]
  },
  {
   "cell_type": "code",
   "execution_count": 9,
   "id": "d43c4498",
   "metadata": {},
   "outputs": [
    {
     "name": "stdout",
     "output_type": "stream",
     "text": [
      "이름 입력 :Ena\n",
      "학번 입력 :20110681\n",
      "국어점수 입력 :100\n",
      "영어 점수 입력 :80\n",
      "수학 점수 입력 :80\n",
      "이름은 Ena이고 학번은20110681이며 학점은 B입니다.\n"
     ]
    }
   ],
   "source": [
    "# 이름, 학번, 3과목의 성적을 입력 받아 합계와 평균을 구하고, \n",
    "# 평균이 90이상이면 ‘A’, 80 이상 ‘B’, 70이상 ’C’, \n",
    "# 60이상 ‘D’, 60미만 이면 ‘F’ 를 출력 하시오\n",
    "name = input('이름 입력 :')\n",
    "hakbun = int(input('학번 입력 :'))\n",
    "\n",
    "kor = int(input('국어점수 입력 :'))\n",
    "eng = int(input(\"영어 점수 입력 :\"))\n",
    "math = int(input(\"수학 점수 입력 :\"))\n",
    "\n",
    "tot = kor+eng+math\n",
    "avg = tot/3\n",
    "\n",
    "if avg>=90:\n",
    "    print('이름은 {}이고 학번은{}이며 학점은 {}입니다.'.format(name,hakbun,'A'))\n",
    "elif avg>=80:\n",
    "    print('이름은 {}이고 학번은{}이며 학점은 {}입니다.'.format(name,hakbun,'B'))\n",
    "elif avg>=70:\n",
    "    print('이름은 {}이고 학번은{}이며 학점은 {}입니다.'.format(name,hakbun,'C'))\n",
    "elif avg>=60:\n",
    "    print('이름은 {}이고 학번은{}이며 학점은 {}입니다.'.format(name,hakbun,'D'))\n",
    "else:\n",
    "    print('이름은 {}이고 학번은{}이며 학점은 {}입니다.'.format(name,hakbun,'F'))"
   ]
  },
  {
   "cell_type": "code",
   "execution_count": 10,
   "id": "fe6e725a",
   "metadata": {},
   "outputs": [
    {
     "name": "stdout",
     "output_type": "stream",
     "text": [
      "주문할 짜장면 개수:5\n",
      "주문할 짬뽕 개수:10\n",
      "10그릇 이상 주문하면 10%할인!!\n",
      "총 금액 : 112500원\n"
     ]
    }
   ],
   "source": [
    "# 중국집 주문 프로그램\n",
    "\n",
    "# 사용자에게 자장면, 짬뽕 주문 수량을 입력받아 결재 금액을 계산하여 출력\n",
    "\n",
    "# 자장면 - 5000원\n",
    "# 짬뽕- 6000원\n",
    "\n",
    "# 5그릇 이상 주문하면 3천원 할인되도록 금액을 계산하여 출력해주세요\n",
    "# 10그릇 이상 주문하면 10% 할인 처리\n",
    "dp = 5000\n",
    "rp = 10000\n",
    "\n",
    "ea1 = 5\n",
    "ea2 = 10\n",
    "\n",
    "rate1 = 10\n",
    "rate2 = 3000\n",
    "\n",
    "black = int(input('주문할 짜장면 개수:'))\n",
    "red = int(input('주문할 짬뽕 개수:'))\n",
    "\n",
    "tot = black + red\n",
    "price = (black * dp)+ (red*rp)\n",
    "\n",
    "if tot>=ea2:\n",
    "    print('{}그릇 이상 주문하면 {}%할인!!'.format(ea2,rate1))\n",
    "    print('총 금액 : {}원'.format(int(price*0.9)))\n",
    "elif tot>=ea1:\n",
    "    print(\"{}그릇 이상 주문하면 {}원 할인!!\".format(ea1,rate2))\n",
    "    print('총 금액 : {}원'.format(price-rate2))\n",
    "else:\n",
    "    print('총 금액 : {}원'.format(price))\n",
    "\n"
   ]
  },
  {
   "cell_type": "code",
   "execution_count": 54,
   "id": "042d81b1",
   "metadata": {},
   "outputs": [
    {
     "name": "stdout",
     "output_type": "stream",
     "text": [
      "짝\n",
      "더블\n"
     ]
    }
   ],
   "source": [
    "# 주사위를 2개 던지는 코드를 구현하시고\n",
    "# 두개의 주사위 합계에 따라 아래와 같이 코드를 구현\n",
    "\n",
    "# (1) 합계가 짝수일 경우\t\t짝! 출력\n",
    "# (2) 합계가 홀수일 경우\t\t홀! 출력\n",
    "# (3) 두 주사위가 같은 값일 경우 \t더블! 출력\n",
    "import random\n",
    "\n",
    "a = int(random.random()*6)+1\n",
    "b = int(random.random()*6)+1\n",
    "\n",
    "if (a+b)% 2 ==0:\n",
    "    print('짝')\n",
    "    if a==b:\n",
    "        print('더블')\n",
    "elif (a+b)% 2 !=0:\n",
    "    print('홀수')\n",
    "    if a==b:\n",
    "        print('더블')\n"
   ]
  },
  {
   "cell_type": "code",
   "execution_count": null,
   "id": "ef965609",
   "metadata": {},
   "outputs": [],
   "source": []
  },
  {
   "cell_type": "code",
   "execution_count": null,
   "id": "0592865e",
   "metadata": {},
   "outputs": [],
   "source": []
  }
 ],
 "metadata": {
  "kernelspec": {
   "display_name": "Python 3",
   "language": "python",
   "name": "python3"
  },
  "language_info": {
   "codemirror_mode": {
    "name": "ipython",
    "version": 3
   },
   "file_extension": ".py",
   "mimetype": "text/x-python",
   "name": "python",
   "nbconvert_exporter": "python",
   "pygments_lexer": "ipython3",
   "version": "3.8.8"
  },
  "toc": {
   "base_numbering": 1,
   "nav_menu": {},
   "number_sections": true,
   "sideBar": true,
   "skip_h1_title": false,
   "title_cell": "Table of Contents",
   "title_sidebar": "Contents",
   "toc_cell": false,
   "toc_position": {},
   "toc_section_display": true,
   "toc_window_display": false
  }
 },
 "nbformat": 4,
 "nbformat_minor": 5
}
