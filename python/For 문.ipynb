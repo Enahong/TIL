{
 "cells": [
  {
   "cell_type": "markdown",
   "id": "72dc3fa1",
   "metadata": {},
   "source": [
    "# For 문\n",
    "for\n",
    "- 반복할 횟수가 일정할때\n",
    "- 반복할 횟수를 알고있을때\n",
    "- 반복할 횟수가 유한일때\n",
    "\n",
    "형식\n",
    "```\n",
    "   for 변수 in 여러개의 데이터가 있는 공간 :\n",
    "       종속문장\n",
    "```\n",
    "\n",
    "일반적으로 사용하는 형식\n",
    "```\n",
    "   for 변수 in range(시작값,종료값,증감값):\n",
    "       종속문장\n",
    "```\n",
    "\n",
    "모든 제어문은 중첩이 가능하다..\n",
    "\n",
    "다중 for문\n",
    "- for문 안에 for문이 있는 형태\n",
    "- 중첩적인 구조를 가지는 for문"
   ]
  },
  {
   "cell_type": "code",
   "execution_count": 1,
   "id": "480681d3",
   "metadata": {},
   "outputs": [
    {
     "name": "stdout",
     "output_type": "stream",
     "text": [
      "a\n",
      "b\n",
      "c\n",
      "d\n",
      "e\n"
     ]
    }
   ],
   "source": [
    "for i in \"abcde\":\n",
    "    print(i)"
   ]
  },
  {
   "cell_type": "code",
   "execution_count": 2,
   "id": "d2de33a6",
   "metadata": {},
   "outputs": [
    {
     "name": "stdout",
     "output_type": "stream",
     "text": [
      "0\n",
      "1\n",
      "2\n",
      "3\n",
      "4\n"
     ]
    }
   ],
   "source": [
    "\n",
    "for i in range(5):# 0부터 시작하면은 시작값을 적어주지 않아도 된다.(기본값)\n",
    "    print(i)      # 종료값보다 1작을때 까지 반복이 된다.\n",
    "                  # 1씩 증가될때는 증감값을 적지 않아도된다. (기본값)"
   ]
  },
  {
   "cell_type": "code",
   "execution_count": 3,
   "id": "9e5abdc1",
   "metadata": {},
   "outputs": [
    {
     "name": "stdout",
     "output_type": "stream",
     "text": [
      "1\n",
      "2\n",
      "3\n",
      "4\n"
     ]
    }
   ],
   "source": [
    "for i in range(1,5): #시작값 : 1 종료값 : 5(5는 불포함)\n",
    "    print(i)"
   ]
  },
  {
   "cell_type": "code",
   "execution_count": 4,
   "id": "66e154b5",
   "metadata": {},
   "outputs": [
    {
     "name": "stdout",
     "output_type": "stream",
     "text": [
      "1\n",
      "2\n",
      "3\n",
      "4\n"
     ]
    }
   ],
   "source": [
    "#while\n",
    "\n",
    "i = 1        #초기값\n",
    "while i<5:  #조건식\n",
    "    print(i)\n",
    "    i+=1     #증감식"
   ]
  },
  {
   "cell_type": "code",
   "execution_count": 5,
   "id": "56427eda",
   "metadata": {},
   "outputs": [
    {
     "name": "stdout",
     "output_type": "stream",
     "text": [
      "1\n",
      "3\n"
     ]
    }
   ],
   "source": [
    "for i in range(1,5,2):  #시작값 : 1 종료값 : 5(5는 불포함) 증감값 : 2\n",
    "    print(i)"
   ]
  },
  {
   "cell_type": "code",
   "execution_count": 6,
   "id": "ce766b9d",
   "metadata": {},
   "outputs": [
    {
     "name": "stdout",
     "output_type": "stream",
     "text": [
      "<class 'list'>\n"
     ]
    }
   ],
   "source": [
    "print(type([1,2,3,4,5]))"
   ]
  },
  {
   "cell_type": "code",
   "execution_count": 7,
   "id": "60e2708f",
   "metadata": {},
   "outputs": [
    {
     "name": "stdout",
     "output_type": "stream",
     "text": [
      "1\n",
      "2\n",
      "3\n",
      "4\n",
      "5\n"
     ]
    }
   ],
   "source": [
    "for i in [1,2,3,4,5]:\n",
    "    print(i)"
   ]
  },
  {
   "cell_type": "code",
   "execution_count": 11,
   "id": "b46ead85",
   "metadata": {},
   "outputs": [
    {
     "name": "stdout",
     "output_type": "stream",
     "text": [
      "5\n",
      "4\n",
      "3\n",
      "2\n",
      "1\n"
     ]
    }
   ],
   "source": [
    "for i in range(5,0,-1):#증감식이 -일때에는 1 클때까지만 돌아간다.\n",
    "    print(i)"
   ]
  },
  {
   "cell_type": "code",
   "execution_count": 14,
   "id": "bde34213",
   "metadata": {},
   "outputs": [
    {
     "name": "stdout",
     "output_type": "stream",
     "text": [
      "5\n",
      "4\n",
      "3\n",
      "2\n",
      "1\n",
      "0\n"
     ]
    }
   ],
   "source": [
    "for i in range(5,-1,-1):#증감식이 -일때에는 1 클때까지만 돌아간다.\n",
    "    print(i)"
   ]
  },
  {
   "cell_type": "code",
   "execution_count": 15,
   "id": "741585ad",
   "metadata": {},
   "outputs": [
    {
     "name": "stdout",
     "output_type": "stream",
     "text": [
      "5\n",
      "4\n",
      "3\n",
      "2\n",
      "1\n",
      "0\n",
      "-1\n"
     ]
    }
   ],
   "source": [
    "for i in range(5,-2,-1):#증감식이 -일때에는 1 클때까지만 돌아간다.\n",
    "    print(i)\n"
   ]
  },
  {
   "cell_type": "code",
   "execution_count": 16,
   "id": "176435dc",
   "metadata": {},
   "outputs": [
    {
     "name": "stdout",
     "output_type": "stream",
     "text": [
      "31 33 35 37 39 41 43 45 47 49 51 53 55 57 59 "
     ]
    }
   ],
   "source": [
    "# 30부터 60까지의 홀수\n",
    "\n",
    "for i in range(30,61):\n",
    "    if i%2!=0:\n",
    "        print(i,end=' ')"
   ]
  },
  {
   "cell_type": "code",
   "execution_count": 18,
   "id": "4be9c3e7",
   "metadata": {},
   "outputs": [
    {
     "name": "stdout",
     "output_type": "stream",
     "text": [
      "100 95 90 85 80 75 70 65 60 55 50 45 40 35 30 25 20 15 10 5 0 "
     ]
    }
   ],
   "source": [
    "# 100부터 0까지의 5의배수\n",
    "\n",
    "for i in range(100,-1,-1):\n",
    "    if i%5 == 0:\n",
    "        print(i, end=' ')"
   ]
  },
  {
   "cell_type": "code",
   "execution_count": 19,
   "id": "aa294c4b",
   "metadata": {},
   "outputs": [
    {
     "name": "stdout",
     "output_type": "stream",
     "text": [
      "숫자 입력 :12\n",
      "1 3 5 7 9 11 "
     ]
    }
   ],
   "source": [
    "# 숫자 1개를 입력받아 1부터 해당 수까지 홀수 출력\n",
    "\n",
    "num = int(input('숫자 입력 :'))\n",
    "for i in range(1,num+1):\n",
    "    if i%2==1:\n",
    "        print(i, end = ' ')\n"
   ]
  },
  {
   "cell_type": "code",
   "execution_count": 20,
   "id": "022ab660",
   "metadata": {},
   "outputs": [
    {
     "name": "stdout",
     "output_type": "stream",
     "text": [
      "5050\n"
     ]
    }
   ],
   "source": [
    "#1~100까지 누적 합을 구하는 코드를 작성하세요.\n",
    "\n",
    "total =0\n",
    "for i in range(1,101):\n",
    "    total = total + i\n",
    "print(total)\n",
    "    "
   ]
  },
  {
   "cell_type": "code",
   "execution_count": 23,
   "id": "104720b3",
   "metadata": {},
   "outputs": [
    {
     "name": "stdout",
     "output_type": "stream",
     "text": [
      "26\n",
      "29\n",
      "29\n"
     ]
    }
   ],
   "source": [
    "# 다음 문자열 변수에서 공백을 제외한 문자의 수를 구하세요.\n",
    "st = \"Python basic program language\"\n",
    "\n",
    "cnt = 0\n",
    "for i in st:\n",
    "    if i != ' ':\n",
    "        cnt = cnt +1\n",
    "print(cnt)\n",
    "print(len(st)) \n",
    "print(st.__len__())"
   ]
  },
  {
   "cell_type": "code",
   "execution_count": 32,
   "id": "c02f0cf3",
   "metadata": {},
   "outputs": [
    {
     "name": "stdout",
     "output_type": "stream",
     "text": [
      "1\t2\t3\t4\t5\t\n",
      "6\t7\t8\t9\t10\t\n",
      "11\t12\t13\t14\t15\t\n",
      "16\t17\t18\t19\t20\t\n",
      "21\t22\t23\t24\t25\t\n",
      "26\t27\t28\t29\t30\t\n"
     ]
    }
   ],
   "source": [
    "# 1 ~ 30 까지 출력\n",
    "\n",
    "# <출력 결과>\n",
    "# 1   2   3   4    5\n",
    "# 6   7   8   9   10\n",
    "# 11  12  13  14  15\n",
    "# 16  17  18  19  20\n",
    "# 21  22  23  24  25\n",
    "# 26  27  28  29  30\n",
    "\n",
    "for i in range(1,31):\n",
    "    print(i, end='\\t')\n",
    "    if i%5 ==0:\n",
    "        print()"
   ]
  },
  {
   "cell_type": "code",
   "execution_count": 36,
   "id": "bb41132b",
   "metadata": {
    "scrolled": true
   },
   "outputs": [
    {
     "name": "stdout",
     "output_type": "stream",
     "text": [
      "1번째 외부 for문 실행\n",
      "내부for문 실행\n",
      "내부for문 실행\n",
      "내부for문 실행\n",
      "내부for문 실행\n",
      "내부for문 실행\n",
      "1번째 외부 for문 종료\n",
      "2번째 외부 for문 실행\n",
      "내부for문 실행\n",
      "내부for문 실행\n",
      "내부for문 실행\n",
      "내부for문 실행\n",
      "내부for문 실행\n",
      "2번째 외부 for문 종료\n",
      "3번째 외부 for문 실행\n",
      "내부for문 실행\n",
      "내부for문 실행\n",
      "내부for문 실행\n",
      "내부for문 실행\n",
      "내부for문 실행\n",
      "3번째 외부 for문 종료\n",
      "4번째 외부 for문 실행\n",
      "내부for문 실행\n",
      "내부for문 실행\n",
      "내부for문 실행\n",
      "내부for문 실행\n",
      "내부for문 실행\n",
      "4번째 외부 for문 종료\n",
      "5번째 외부 for문 실행\n",
      "내부for문 실행\n",
      "내부for문 실행\n",
      "내부for문 실행\n",
      "내부for문 실행\n",
      "내부for문 실행\n",
      "5번째 외부 for문 종료\n"
     ]
    }
   ],
   "source": [
    "# 다중 for문\n",
    "# - for문 안에 for문이 있는 형태\n",
    "# - 중첩적인 구조를 가지는 for문\n",
    "\n",
    "for i in range(1,6):#1~5\n",
    "    print(\"{}번째 외부 for문 실행\".format(i))\n",
    "    for j in range(1,6):\n",
    "        print(\"내부for문 실행\")\n",
    "    print(\"{}번째 외부 for문 종료\".format(i))"
   ]
  },
  {
   "cell_type": "code",
   "execution_count": 37,
   "id": "571ab7bf",
   "metadata": {},
   "outputs": [
    {
     "name": "stdout",
     "output_type": "stream",
     "text": [
      "2 * 1 = 2\n",
      "2 * 2 = 4\n",
      "2 * 3 = 6\n",
      "2 * 4 = 8\n",
      "2 * 5 = 10\n",
      "2 * 6 = 12\n",
      "2 * 7 = 14\n",
      "2 * 8 = 16\n",
      "2 * 9 = 18\n",
      "------\n",
      "3 * 1 = 3\n",
      "3 * 2 = 6\n",
      "3 * 3 = 9\n",
      "3 * 4 = 12\n",
      "3 * 5 = 15\n",
      "3 * 6 = 18\n",
      "3 * 7 = 21\n",
      "3 * 8 = 24\n",
      "3 * 9 = 27\n",
      "------\n",
      "4 * 1 = 4\n",
      "4 * 2 = 8\n",
      "4 * 3 = 12\n",
      "4 * 4 = 16\n",
      "4 * 5 = 20\n",
      "4 * 6 = 24\n",
      "4 * 7 = 28\n",
      "4 * 8 = 32\n",
      "4 * 9 = 36\n",
      "------\n",
      "5 * 1 = 5\n",
      "5 * 2 = 10\n",
      "5 * 3 = 15\n",
      "5 * 4 = 20\n",
      "5 * 5 = 25\n",
      "5 * 6 = 30\n",
      "5 * 7 = 35\n",
      "5 * 8 = 40\n",
      "5 * 9 = 45\n",
      "------\n",
      "6 * 1 = 6\n",
      "6 * 2 = 12\n",
      "6 * 3 = 18\n",
      "6 * 4 = 24\n",
      "6 * 5 = 30\n",
      "6 * 6 = 36\n",
      "6 * 7 = 42\n",
      "6 * 8 = 48\n",
      "6 * 9 = 54\n",
      "------\n",
      "7 * 1 = 7\n",
      "7 * 2 = 14\n",
      "7 * 3 = 21\n",
      "7 * 4 = 28\n",
      "7 * 5 = 35\n",
      "7 * 6 = 42\n",
      "7 * 7 = 49\n",
      "7 * 8 = 56\n",
      "7 * 9 = 63\n",
      "------\n",
      "8 * 1 = 8\n",
      "8 * 2 = 16\n",
      "8 * 3 = 24\n",
      "8 * 4 = 32\n",
      "8 * 5 = 40\n",
      "8 * 6 = 48\n",
      "8 * 7 = 56\n",
      "8 * 8 = 64\n",
      "8 * 9 = 72\n",
      "------\n",
      "9 * 1 = 9\n",
      "9 * 2 = 18\n",
      "9 * 3 = 27\n",
      "9 * 4 = 36\n",
      "9 * 5 = 45\n",
      "9 * 6 = 54\n",
      "9 * 7 = 63\n",
      "9 * 8 = 72\n",
      "9 * 9 = 81\n",
      "------\n"
     ]
    }
   ],
   "source": [
    "#구구단 출력\n",
    "\n",
    "for i in range(2,10):\n",
    "    for j in range(1,10):\n",
    "        print(f\"{i} * {j} = {i*j}\")\n",
    "    print('------')"
   ]
  },
  {
   "cell_type": "code",
   "execution_count": 38,
   "id": "99e50271",
   "metadata": {},
   "outputs": [
    {
     "name": "stdout",
     "output_type": "stream",
     "text": [
      "#\n",
      "##\n",
      "###\n"
     ]
    }
   ],
   "source": [
    "# 문제 1)\n",
    "\"\"\"\n",
    "#\n",
    "##\n",
    "###\n",
    "\"\"\"\n",
    "for i in range(3):\n",
    "    for j in range(0,i+1):\n",
    "        print(\"#\",end=\"\")\n",
    "    print()"
   ]
  },
  {
   "cell_type": "code",
   "execution_count": 39,
   "id": "f03e628e",
   "metadata": {},
   "outputs": [
    {
     "name": "stdout",
     "output_type": "stream",
     "text": [
      "###\n",
      "##\n",
      "#\n"
     ]
    }
   ],
   "source": [
    "# 문제 2)\n",
    "\"\"\"\n",
    "###\n",
    "##\n",
    "#\n",
    "\"\"\"\n",
    "for i in range(3):#0 1 2\n",
    "    for j in range(3,i,-1):#3 2 1 #3 2 # 3\n",
    "        print(\"#\",end=\"\")\n",
    "    print()"
   ]
  },
  {
   "cell_type": "code",
   "execution_count": 40,
   "id": "fa415cf7",
   "metadata": {},
   "outputs": [
    {
     "name": "stdout",
     "output_type": "stream",
     "text": [
      "@##\n",
      "@@#\n",
      "@@@\n",
      "-------------------------------\n"
     ]
    }
   ],
   "source": [
    "# 문제 3)\n",
    "\"\"\"\n",
    "@##\n",
    "@@#\n",
    "@@@\n",
    "\"\"\"\n",
    "for i in range(3):\n",
    "    for j in range(0,i+1):\n",
    "        print('@',end=\"\")\n",
    "    for k in range(2,i,-1):#2 1 # 2\n",
    "        print('#',end=\"\")\n",
    "    print()\n",
    "print(\"-------------------------------\")"
   ]
  },
  {
   "cell_type": "code",
   "execution_count": 41,
   "id": "228282f0",
   "metadata": {},
   "outputs": [
    {
     "name": "stdout",
     "output_type": "stream",
     "text": [
      "  #\n",
      " ###\n",
      "#####\n"
     ]
    }
   ],
   "source": [
    "# 문제 4)\n",
    "\"\"\"\n",
    "  #\n",
    " ###\n",
    "#####\n",
    "\"\"\"\n",
    "cnt = 1\n",
    "for i in range(3):# 0 # 1 # 2\n",
    "    for j in range(2,i,-1):# 2 1 # 2 # x\n",
    "        print(end=\" \")\n",
    "    for k in range(0,cnt):# 0 # 0 1 2 # 0 1 2 3 4\n",
    "        print(\"#\",end=\"\")\n",
    "    cnt+=2 # cnt = 3 # cnt = 5 # cnt = 7\n",
    "    print()"
   ]
  },
  {
   "cell_type": "code",
   "execution_count": null,
   "id": "423318c4",
   "metadata": {},
   "outputs": [],
   "source": []
  }
 ],
 "metadata": {
  "kernelspec": {
   "display_name": "Python 3",
   "language": "python",
   "name": "python3"
  },
  "language_info": {
   "codemirror_mode": {
    "name": "ipython",
    "version": 3
   },
   "file_extension": ".py",
   "mimetype": "text/x-python",
   "name": "python",
   "nbconvert_exporter": "python",
   "pygments_lexer": "ipython3",
   "version": "3.8.8"
  },
  "toc": {
   "base_numbering": 1,
   "nav_menu": {},
   "number_sections": true,
   "sideBar": true,
   "skip_h1_title": false,
   "title_cell": "Table of Contents",
   "title_sidebar": "Contents",
   "toc_cell": false,
   "toc_position": {},
   "toc_section_display": true,
   "toc_window_display": false
  }
 },
 "nbformat": 4,
 "nbformat_minor": 5
}
