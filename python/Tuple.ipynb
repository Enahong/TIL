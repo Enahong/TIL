{
 "cells": [
  {
   "cell_type": "markdown",
   "id": "d86b2aac",
   "metadata": {},
   "source": [
    "# 튜플"
   ]
  },
  {
   "cell_type": "code",
   "execution_count": 1,
   "id": "e797a06e",
   "metadata": {},
   "outputs": [],
   "source": [
    "#튜플\n",
    "\n",
    "tp = 1,2,3,4,5"
   ]
  },
  {
   "cell_type": "code",
   "execution_count": 3,
   "id": "9aba1f22",
   "metadata": {},
   "outputs": [
    {
     "name": "stdout",
     "output_type": "stream",
     "text": [
      "<class 'tuple'>\n"
     ]
    },
    {
     "data": {
      "text/plain": [
       "(1, 2, 3, 4, 5)"
      ]
     },
     "execution_count": 3,
     "metadata": {},
     "output_type": "execute_result"
    }
   ],
   "source": [
    "print(type(tp))\n",
    "tp"
   ]
  },
  {
   "cell_type": "code",
   "execution_count": 4,
   "id": "05713659",
   "metadata": {
    "scrolled": false
   },
   "outputs": [
    {
     "name": "stdout",
     "output_type": "stream",
     "text": [
      "1\n",
      "2\n",
      "3\n",
      "4\n",
      "5\n"
     ]
    }
   ],
   "source": [
    "for i in tp:\n",
    "    print(i)"
   ]
  },
  {
   "cell_type": "code",
   "execution_count": 6,
   "id": "01d6dc79",
   "metadata": {},
   "outputs": [
    {
     "data": {
      "text/plain": [
       "(1, 2, 3, 4, 5)"
      ]
     },
     "execution_count": 6,
     "metadata": {},
     "output_type": "execute_result"
    }
   ],
   "source": [
    "tp = 1,2,3,4,5 # packing\n",
    "tp"
   ]
  },
  {
   "cell_type": "code",
   "execution_count": 7,
   "id": "e23d93e4",
   "metadata": {},
   "outputs": [],
   "source": [
    "a,b,c,d,e = (1,2,3,4,5) #unpacking"
   ]
  },
  {
   "cell_type": "code",
   "execution_count": 11,
   "id": "020f1413",
   "metadata": {
    "scrolled": true
   },
   "outputs": [],
   "source": [
    "a,b,c,d,e = tp #unpacking"
   ]
  },
  {
   "cell_type": "code",
   "execution_count": 12,
   "id": "edd742b1",
   "metadata": {},
   "outputs": [
    {
     "name": "stdout",
     "output_type": "stream",
     "text": [
      "-----------------\n",
      "1\n",
      "2\n",
      "-----------------\n",
      "1\n",
      "2\n",
      "1\n",
      "2\n",
      "3\n",
      "1\n",
      "2\n"
     ]
    }
   ],
   "source": [
    "tp = ((1,2),(1,2,3),(1,2))\n",
    "print(\"-----------------\")\n",
    "print(tp[0][0])\n",
    "print(tp[1][1])\n",
    "print(\"-----------------\")\n",
    "for i in tp:\n",
    "    for j in i:\n",
    "        print(j)"
   ]
  },
  {
   "cell_type": "code",
   "execution_count": 13,
   "id": "eb06081d",
   "metadata": {},
   "outputs": [
    {
     "name": "stdout",
     "output_type": "stream",
     "text": [
      "4\n",
      "0\n",
      "9\n",
      "96\n",
      "(1, 1, 2, 2, 2, 3, 3, 3, 3)\n"
     ]
    }
   ],
   "source": [
    "tp = (1,1,2,2,2,3,3,3,3)\n",
    "\n",
    "print(tp.count(3))#원하는 숫자의 개수를 세주는 함수\n",
    "\n",
    "print(tp.index(1))#원하는 숫자의 시작 인덱스 번호를 알려주는 함수\n",
    "\n",
    "print(tp.__len__())#튜플 안에 담긴 숫자의 개수\n",
    "\n",
    "print(tp.__sizeof__())#튜플 안에 크기( 컴퓨터가 할당 )\n",
    "\n",
    "print(tp.__str__()) #문자열 형태로 전부 반환 출력해준다."
   ]
  },
  {
   "cell_type": "code",
   "execution_count": 15,
   "id": "362851a0",
   "metadata": {},
   "outputs": [],
   "source": [
    "menu = (('칼국수', 6000),\n",
    "       ('비빔밥', 5500),\n",
    "       ('돼지국밥', 7000),\n",
    "       ('돈까스', 7000),\n",
    "       ('김밥', 2000),\n",
    "       ('라면', 2500))\n"
   ]
  },
  {
   "cell_type": "code",
   "execution_count": 25,
   "id": "0b54cfc5",
   "metadata": {},
   "outputs": [
    {
     "data": {
      "text/plain": [
       "('칼국수', 6000)"
      ]
     },
     "execution_count": 25,
     "metadata": {},
     "output_type": "execute_result"
    }
   ],
   "source": [
    "menu[0]"
   ]
  },
  {
   "cell_type": "code",
   "execution_count": 27,
   "id": "2f4e0004",
   "metadata": {},
   "outputs": [
    {
     "data": {
      "text/plain": [
       "6000"
      ]
     },
     "execution_count": 27,
     "metadata": {},
     "output_type": "execute_result"
    }
   ],
   "source": [
    "menu[0][1]"
   ]
  },
  {
   "cell_type": "code",
   "execution_count": 19,
   "id": "6feaf10d",
   "metadata": {
    "scrolled": false
   },
   "outputs": [
    {
     "name": "stdout",
     "output_type": "stream",
     "text": [
      "김밥의 가격은 2000 입니다\n",
      "라면의 가격은 2500 입니다\n",
      "김밥:2000원\n",
      "라면:2500원\n"
     ]
    }
   ],
   "source": [
    "# 위의 튜플 구조를 보고 아래에서 요구하는 값을 출력하는 코드를 작성 하시오.\n",
    "# 김밥과, 라면의 가격을 각각 출력 하시오\n",
    "print('김밥의 가격은',menu[4][1],'입니다')\n",
    "print('라면의 가격은', menu[5][1],'입니다')\n",
    "\n",
    "# or\n",
    "print(f'{menu[4][0]}:{menu[4][1]}원')\n",
    "print(f'{menu[5][0]}:{menu[5][1]}원')"
   ]
  },
  {
   "cell_type": "code",
   "execution_count": 29,
   "id": "5d3e9165",
   "metadata": {},
   "outputs": [
    {
     "name": "stdout",
     "output_type": "stream",
     "text": [
      "7000원: 돼지국밥,돈까스\n",
      "돼지국밥:7000원\n",
      "돈까스:7000원\n",
      "돼지국밥: 7000원\n",
      "돈까스: 7000원\n"
     ]
    }
   ],
   "source": [
    "# 가격이 7000에 해당하는 메뉴를 출력 하시오.\n",
    "print(f'7000원: {menu[2][0]},{menu[3][0]}')\n",
    "\n",
    "# for문 사용\n",
    "\n",
    "for i in range(len(menu)):\n",
    "    if menu[i][1] == 7000:\n",
    "        print(f'{menu[i][0]}:{menu[i][1]}원')\n",
    "        \n",
    "# or \n",
    "\n",
    "for i in menu:\n",
    "    if i[1]==7000:\n",
    "        print(f'{i[0]}: {i[1]}원')"
   ]
  },
  {
   "cell_type": "code",
   "execution_count": 30,
   "id": "3eaed710",
   "metadata": {},
   "outputs": [
    {
     "name": "stdout",
     "output_type": "stream",
     "text": [
      "칼국수: 6000원\n",
      "비빔밥: 5500원\n",
      "김밥: 2000원\n",
      "라면: 2500원\n"
     ]
    }
   ],
   "source": [
    "# 가격이 6000원 이하인 메뉴를 출력 하시오.\n",
    "for i in menu:\n",
    "    if i[1] <=6000:\n",
    "        print(f'{i[0]}: {i[1]}원')"
   ]
  },
  {
   "cell_type": "code",
   "execution_count": 32,
   "id": "01b4f276",
   "metadata": {},
   "outputs": [
    {
     "name": "stdout",
     "output_type": "stream",
     "text": [
      "메뉴를 입력하시오칼국수\n",
      "6000\n"
     ]
    }
   ],
   "source": [
    "# 사용자 입력으로 메뉴를 입력 받아 해당하는 메뉴의 가격을 출력하시오.\n",
    "\n",
    "user = input('메뉴를 입력하시오')\n",
    "for i in menu:\n",
    "    if i[0]==user:\n",
    "        print(i[1])"
   ]
  },
  {
   "cell_type": "code",
   "execution_count": 38,
   "id": "1bd88228",
   "metadata": {},
   "outputs": [
    {
     "data": {
      "text/plain": [
       "[1, 1.234, 'a', 'abc', (123, 1), [1, 2.3]]"
      ]
     },
     "execution_count": 38,
     "metadata": {},
     "output_type": "execute_result"
    }
   ],
   "source": [
    "a = [1,1.234,'a','abc',(123,1),[1,2.3]]\n",
    "a"
   ]
  },
  {
   "cell_type": "code",
   "execution_count": null,
   "id": "8bf73cad",
   "metadata": {},
   "outputs": [],
   "source": []
  }
 ],
 "metadata": {
  "kernelspec": {
   "display_name": "Python 3",
   "language": "python",
   "name": "python3"
  },
  "language_info": {
   "codemirror_mode": {
    "name": "ipython",
    "version": 3
   },
   "file_extension": ".py",
   "mimetype": "text/x-python",
   "name": "python",
   "nbconvert_exporter": "python",
   "pygments_lexer": "ipython3",
   "version": "3.8.8"
  },
  "toc": {
   "base_numbering": 1,
   "nav_menu": {},
   "number_sections": true,
   "sideBar": true,
   "skip_h1_title": false,
   "title_cell": "Table of Contents",
   "title_sidebar": "Contents",
   "toc_cell": false,
   "toc_position": {},
   "toc_section_display": true,
   "toc_window_display": false
  }
 },
 "nbformat": 4,
 "nbformat_minor": 5
}
