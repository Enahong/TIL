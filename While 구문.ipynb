{
 "cells": [
  {
   "cell_type": "markdown",
   "id": "8969ea3e",
   "metadata": {},
   "source": [
    "# While 문\n",
    "반복문\n",
    "- 코드의 일정부분을 반복하여 실행하는 제어문\n",
    "- 조건식의 결과가 참일동안 반복하여 실행한다.\n",
    "- 반드시 탈출 조건 또는 종료지점을 만들어주어야 한다.\n",
    "\n",
    "반복문 종류\n",
    "- while : 반복할 횟수가 일정하지 않을때..\n",
    "- for : 반복할 횟수가 일정할때 사용한다..\n",
    "\n",
    "while\n",
    "- 반복할 횟수가 일정치 않을 때 \n",
    "- 반복할 횟수를 모를때\n",
    "- 반복할 횟수가 무한일때\n",
    "\n",
    "형식\n",
    "```\n",
    " while 조건식:\n",
    "       종속문장\n",
    "       종속문장\n",
    "       ...\n",
    "       특정조건:\n",
    "           continue or break\n",
    "       종속문장\n",
    "```\n",
    "\n",
    "break\n",
    "- while, for문의 반복문에서 빠져나오기 위해 사용하는 흐름제어문\n",
    "\n",
    "continue \n",
    "- continue 아래의 소스 코드들 다 무시하고 처음으로 돌아가 반복한다."
   ]
  },
  {
   "cell_type": "markdown",
   "id": "1574680a",
   "metadata": {},
   "source": [
    "# Examples"
   ]
  },
  {
   "cell_type": "code",
   "execution_count": 22,
   "id": "e7868078",
   "metadata": {},
   "outputs": [
    {
     "name": "stdout",
     "output_type": "stream",
     "text": [
      "1 2 3 4 5 6 7 8 9 \n",
      "1 2 3 4 5 6 7 8 9 "
     ]
    }
   ],
   "source": [
    "i = 1 # 초기식\n",
    "while True:#조건식\n",
    "    print(i,end=' ') # 1 # 2 # 3 # 4 # 5 # 6 # 7 # 8 # 9\n",
    "    if i==9:\n",
    "        break #반복문 종료\n",
    "    i+=1#증감식 # 2 # 3 # 4 # 5 # 6 # 7 # 8 # 9\n",
    "    \n",
    "print()\n",
    "\n",
    "i=1\n",
    "while i<=9:# 조건식이 True일때만 반복문 실행\n",
    "    print(i, end=' ')\n",
    "    i+=1\n"
   ]
  },
  {
   "cell_type": "code",
   "execution_count": 23,
   "id": "81e0f988",
   "metadata": {},
   "outputs": [
    {
     "name": "stdout",
     "output_type": "stream",
     "text": [
      "1 2 3 4 5 6 7 8 9 10 11 12 13 14 15 16 17 18 19 20 21 22 23 24 25 26 27 28 29 30 31 32 33 34 35 36 37 38 39 40 41 42 43 44 45 46 47 48 49 50 51 52 53 54 55 56 57 58 59 60 61 62 63 64 65 66 67 68 69 70 71 72 73 74 75 76 77 78 79 80 81 82 83 84 85 86 87 88 89 90 91 92 93 94 95 96 97 98 99 100 ---\n",
      "2 4 6 8 10 12 14 16 18 20 22 24 26 28 30 32 34 36 38 40 42 44 46 48 50 52 54 56 58 60 62 64 66 68 70 72 74 76 78 80 82 84 86 88 90 92 94 96 98 100 ---\n",
      "1 3 5 7 9 11 13 15 17 19 21 23 25 27 29 31 33 35 37 39 41 43 45 47 49 51 53 55 57 59 61 63 65 67 69 71 73 75 77 79 81 83 85 87 89 91 93 95 97 99 "
     ]
    }
   ],
   "source": [
    "#1.1부터 100까지 정수를 출력하세요\n",
    "i = 1#초기식\n",
    "while i<=100:#조건식\n",
    "    print(i,end=' ')\n",
    "    i+=1#증감식\n",
    "print('---')\n",
    "\n",
    "#2.1부터 100까지 정수중 짝수만 출력하세요\n",
    "i=1\n",
    "while i<=100:\n",
    "    if i%2==0:\n",
    "        print(i, end=' ')\n",
    "    i+=1\n",
    "print('---')\n",
    "\n",
    "#3.1부터 100까지 정수중 홀수만 출력하세요\n",
    "i=1\n",
    "while i<=100:\n",
    "    if i%2==1:#i%2 != 0\n",
    "        print(i,end =' ')\n",
    "    i+=1"
   ]
  },
  {
   "cell_type": "code",
   "execution_count": 24,
   "id": "fcd4208b",
   "metadata": {},
   "outputs": [
    {
     "name": "stdout",
     "output_type": "stream",
     "text": [
      "정수입력 :12\n",
      "1 2 3 4 6 12 "
     ]
    }
   ],
   "source": [
    "# 어떤 수의 약수를 구하는 프로그램을 작성\n",
    "# 약수 = 어떤수를 정수로 나눌 수 있는 수\n",
    "#ex) 8\n",
    "#출력 : 1 2 4 8\n",
    "\n",
    "num= int(input('정수입력 :'))\n",
    "\n",
    "i = 1\n",
    "while i <= num:\n",
    "    if num % i == 0:\n",
    "        print(i,end=\" \")\n",
    "    i+=1"
   ]
  },
  {
   "cell_type": "code",
   "execution_count": 25,
   "id": "bfe55a64",
   "metadata": {
    "scrolled": false
   },
   "outputs": [
    {
     "name": "stdout",
     "output_type": "stream",
     "text": [
      "4*1=4\n",
      "4*2=8\n",
      "4*3=12\n",
      "4*4=16\n",
      "4*5=20\n",
      "4*6=24\n",
      "4*7=28\n",
      "4*8=32\n",
      "4*9=36\n"
     ]
    }
   ],
   "source": [
    "# 구구단 4단 출력 ( while 구문 사용)\n",
    "# 출력 예시 4*1=4 , 4*2 =2 ...\n",
    "\n",
    "i = 4 \n",
    "n= 1\n",
    "\n",
    "while n <= 9:\n",
    "    print(f'{i}*{n}={i*n}')\n",
    "    n = n + 1"
   ]
  },
  {
   "cell_type": "markdown",
   "id": "43247701",
   "metadata": {},
   "source": [
    "# [ 아이템 강화 시뮬레이션 ]\n",
    "1. 아이템은 1번 강화하는데 현금 1000원이 필요하다\n",
    "2. 아이템은 처음에 레벨이 0이다\n",
    "3. 강화가 성공할 확률은 35% 이고 성공하면 레벨이 1 증가\n",
    "4. 강화가 실패할 확률은 30% 이고 실패하면 레벨이 1 감소\n",
    "5. 그 외의 경우에는 아무런 변화가 없다\n",
    "\n",
    "0레벨의 아이템을 10레벨로 만들기 위해 내가 쏟아 부어야 되는 \n",
    "현금을 계산하세요\n",
    "(random, while 구문 사용)"
   ]
  },
  {
   "cell_type": "code",
   "execution_count": 34,
   "id": "2bc9d6f6",
   "metadata": {},
   "outputs": [
    {
     "data": {
      "text/plain": [
       "'\\nwhile True:\\n    rate = int(random.random()*100)+1\\n    cnt = cnt + 1\\n    tot = tot + cost\\n    if rate <=35: # 강화가 성공활 확률 35%\\n        lev = lev + 1\\n        print(f\\'횟수:{cnt} /강화성공 !/ level:{lev}\\')\\n        if lev == 10:\\n            print(f\\'횟수:{cnt}/강화종료 !/ level:{lev} / 총금액:{tot}\\')\\n            break\\n    elif rate >=70: # 실패할 확률 30%\\n        if lev == 0:\\n            print(f\"횟수:{cnt}/강화실패 !! 0밑으로 하락할수 없습니다 / level:{lev}\")\\n        else:\\n            lev = lev -1\\n            print(f\"횟수:{cnt}/강화실패 !! / level:{lev}\")\\n    else:\\n        print(f\"횟수:{cnt}/강화실패, 아무런 변화가 없습니다. / level:{lev}\")\\n'"
      ]
     },
     "execution_count": 34,
     "metadata": {},
     "output_type": "execute_result"
    }
   ],
   "source": [
    "import random\n",
    "\n",
    "cost = 1000 # 1번 강화 비용\n",
    "cnt =0 # 강화 횟수\n",
    "lev = 0 # 레벨\n",
    "tot = 0 # 총 금액\n",
    "\n",
    "'''\n",
    "while True:\n",
    "    rate = int(random.random()*100)+1\n",
    "    cnt = cnt + 1\n",
    "    tot = tot + cost\n",
    "    if rate <=35: # 강화가 성공활 확률 35%\n",
    "        lev = lev + 1\n",
    "        print(f'횟수:{cnt} /강화성공 !/ level:{lev}')\n",
    "        if lev == 10:\n",
    "            print(f'횟수:{cnt}/강화종료 !/ level:{lev} / 총금액:{tot}')\n",
    "            break\n",
    "    elif rate >=70: # 실패할 확률 30%\n",
    "        if lev == 0:\n",
    "            print(f\"횟수:{cnt}/강화실패 !! 0밑으로 하락할수 없습니다 / level:{lev}\")\n",
    "        else:\n",
    "            lev = lev -1\n",
    "            print(f\"횟수:{cnt}/강화실패 !! / level:{lev}\")\n",
    "    else:\n",
    "        print(f\"횟수:{cnt}/강화실패, 아무런 변화가 없습니다. / level:{lev}\")\n",
    "'''\n"
   ]
  },
  {
   "cell_type": "markdown",
   "id": "f7c98fa6",
   "metadata": {},
   "source": [
    "# [업다운 게임]\n",
    "업다운 게임을 구현하려 합니다.\n",
    "컴퓨터에게 1부터 100 사이의 정답을 생성하도록 코드를 구현한 뒤\n",
    "사용자가 숫자를 입력하여 정답을 맞추도록 프로그래밍하세요\n",
    "\n",
    "<게임의 상태>\n",
    "* [  업 ] 사용자가 정답보다 낮은 값을 입력한 경우\n",
    "* [ 다운 ] 사용자가 정답보다 높은 값을 입력한 경우\n",
    "* [ 정답 ] 사용자가 정답과 같은 값을 입력한 경우, 게임 종료\n",
    "\n",
    "게임 종료시 총 입력한 횟수를 화면에 출력"
   ]
  },
  {
   "cell_type": "code",
   "execution_count": 35,
   "id": "4b7e6ec5",
   "metadata": {},
   "outputs": [
    {
     "name": "stdout",
     "output_type": "stream",
     "text": [
      "1~100사이의 숫자를 입력하시오50\n",
      "[다운]\n",
      "1~100사이의 숫자를 입력하시오30\n",
      "[다운]\n",
      "1~100사이의 숫자를 입력하시오20\n",
      "[다운]\n",
      "1~100사이의 숫자를 입력하시오10\n",
      "[다운]\n",
      "1~100사이의 숫자를 입력하시오5\n",
      "[다운]\n",
      "1~100사이의 숫자를 입력하시오3\n",
      "[업]\n",
      "1~100사이의 숫자를 입력하시오4\n",
      "[정답]\n",
      "총입력한 횟수:7\n"
     ]
    }
   ],
   "source": [
    "import random\n",
    "num = int(random.random()*100)+1\n",
    "\n",
    "# 사용자가 입력한 횟수\n",
    "cnt = 0 \n",
    "\n",
    "while True:\n",
    "    user = int(input('1~100사이의 숫자를 입력하시오'))\n",
    "    cnt = cnt + 1\n",
    "    if user > num:\n",
    "        print('[다운]')\n",
    "    elif user < num:\n",
    "        print('[업]')\n",
    "    else:\n",
    "        print('[정답]')\n",
    "        print(f'총입력한 횟수:{cnt}')\n",
    "        break"
   ]
  },
  {
   "cell_type": "code",
   "execution_count": null,
   "id": "7de7667c",
   "metadata": {},
   "outputs": [],
   "source": [
    "# <출력 결과>\n",
    "\n",
    "# 요금 투입 : 1000\n",
    "# =============== 커피 자판기 ================\n",
    "# 1. 커피(200원) 2.코코아(250원) 3.반환 4.종료\n",
    "# 메뉴 선택 : 1\n",
    "# 커피가 나왔습니다.\n",
    "# 현재 금액은 800원 입니다.\n",
    "\n",
    "# =============== 커피 자판기 ================\n",
    "# 1. 커피(200원) 2.코코아(250원) 3.반환 4.종료\n",
    "# 메뉴 선택 : 2\n",
    "# 코코아가 나왔습니다\n",
    "# 현재 금액은 550원 입니다.\n",
    "\n",
    "# =============== 커피 자판기 ================\n",
    "# 1. 커피(200원) 2.코코아(250원) 3.반환 4.종료\n",
    "# 메뉴 선택 : 3\n",
    "# 550원을 반환합니다.\n",
    "\n",
    "# 요금투입 : \n",
    "# =============== 커피 자판기 ================\n",
    "# 1. 커피(200원) 2.코코아(250원) 3.반환 4.종료\n",
    "# 메뉴 선택 : 4\n",
    "# 자판기를 종료 합니다."
   ]
  },
  {
   "cell_type": "code",
   "execution_count": null,
   "id": "fc7192b2",
   "metadata": {},
   "outputs": [],
   "source": [
    "money = 0\n",
    "while True:\n",
    "    money += int(input(\"요금 투입 : \"))\n",
    "    check = True\n",
    "    while check:\n",
    "        print(\"=============== 커피 자판기 ================\")\n",
    "        print(\"1. 커피(200원) 2.코코아(250원) 3.반환 4.종료\")\n",
    "        select = int(input(\"메뉴 선택 : \"))\n",
    "        if select == 1:\n",
    "            if money < 200:\n",
    "                print(\"금액이 모자랍니다.\")\n",
    "                while True:\n",
    "                    an = input(\"모자란 금액을 투입하시겠습니까?\")\n",
    "                    if an == 'y':\n",
    "                        check = False\n",
    "                        break\n",
    "                    elif an == 'n':\n",
    "                        break\n",
    "                    else:\n",
    "                        print(\"잘못된 입력!!\")\n",
    "            else:\n",
    "                print(\"커피가 나왔습니다.\")\n",
    "                money -= 200\n",
    "                print(\"현재 금액은 {}원 입니다.\".format(돈))\n",
    "        elif select == 2:\n",
    "            if money < 250:\n",
    "                print(\"금액이 모자랍니다.\")\n",
    "                while True:\n",
    "                    an = input(\"모자란 금액을 투입하시겠습니까?\")\n",
    "                    if an == 'y':\n",
    "                        check = False\n",
    "                        break\n",
    "                    elif an == 'n':\n",
    "                        break\n",
    "                    else:\n",
    "                        print(\"잘못된 입력!!\")\n",
    "            else:\n",
    "                print(\"코코아가 나왔습니다.\")\n",
    "                money -= 250\n",
    "                print(\"현재 금액은 {}원 입니다.\".format(돈))\n",
    "        elif select == 3:\n",
    "            print(\"{}원을 반환 합니다.\".format(돈))\n",
    "            money = 0\n",
    "            while True:\n",
    "                an = input(\"다시 투입하시겠습니까?\")\n",
    "                if an == 'y':\n",
    "                    check = False\n",
    "                    break\n",
    "                elif an == 'n':\n",
    "                    print(\"자판기를 종료 합니다.\")\n",
    "                    exit(0) # 프로그램 종료 함수 0 - 정상 종료 0이 아닌수 - 비정상 종료\n",
    "                else:\n",
    "                    print(\"잘못된 입력!!\")\n",
    "        elif select == 4:\n",
    "            print(\"자판기를 종료 합니다.\")\n",
    "            exit(0)\n",
    "        else:\n",
    "            print(\"잘못된 메뉴 입력!!\")"
   ]
  },
  {
   "cell_type": "code",
   "execution_count": 36,
   "id": "8aa7bdf3",
   "metadata": {},
   "outputs": [
    {
     "name": "stdout",
     "output_type": "stream",
     "text": [
      "[11, 12, 14, 27, 31, 40]\n"
     ]
    }
   ],
   "source": [
    "# 1 ~ 45 까지 임의의 값을 중복 없이 6개 생성 하여 출력 하는 코드를 작성 하시오.\n",
    "\n",
    "import random\n",
    "\n",
    "ls = []\n",
    "\n",
    "while True:\n",
    "    rand = int(random.random() * 45)+1\n",
    "    if ls.count(rand) == 0:\n",
    "        ls.append(rand)\n",
    "    if ls.__len__() == 6:\n",
    "        break\n",
    "\n",
    "ls.sort()\n",
    "print(ls)"
   ]
  },
  {
   "cell_type": "code",
   "execution_count": null,
   "id": "7d574db8",
   "metadata": {},
   "outputs": [],
   "source": []
  }
 ],
 "metadata": {
  "kernelspec": {
   "display_name": "Python 3",
   "language": "python",
   "name": "python3"
  },
  "language_info": {
   "codemirror_mode": {
    "name": "ipython",
    "version": 3
   },
   "file_extension": ".py",
   "mimetype": "text/x-python",
   "name": "python",
   "nbconvert_exporter": "python",
   "pygments_lexer": "ipython3",
   "version": "3.8.8"
  },
  "toc": {
   "base_numbering": 1,
   "nav_menu": {},
   "number_sections": false,
   "sideBar": true,
   "skip_h1_title": false,
   "title_cell": "Table of Contents",
   "title_sidebar": "Contents",
   "toc_cell": false,
   "toc_position": {
    "height": "calc(100% - 180px)",
    "left": "10px",
    "top": "150px",
    "width": "284.444px"
   },
   "toc_section_display": true,
   "toc_window_display": true
  }
 },
 "nbformat": 4,
 "nbformat_minor": 5
}
